{
 "cells": [
  {
   "cell_type": "markdown",
   "id": "0d289b00",
   "metadata": {},
   "source": [
    "## Implementación de stacks por medio de Singly Linked List\n",
    "<b> Trabajo hecho por Sebastián Mena</b>\n"
   ]
  },
  {
   "cell_type": "code",
   "execution_count": 1,
   "id": "4c155f76",
   "metadata": {},
   "outputs": [],
   "source": [
    "class Node:\n",
    "    def __init__(self, val=None):\n",
    "        self.val = val\n",
    "        self.next_node = None\n",
    "\n",
    "    def set_next_node(self, next_node):\n",
    "        self.next_node = next_node\n"
   ]
  },
  {
   "cell_type": "code",
   "execution_count": 2,
   "id": "8bb4bf53",
   "metadata": {},
   "outputs": [],
   "source": [
    "class StackList:\n",
    "    # MÉTODO INICIALIZADOR\n",
    "    def __init__(self, head_node=None):\n",
    "        self.head_node = head_node\n",
    "\n",
    "    def empty(self):\n",
    "        if self.head_node is None:\n",
    "            return print(True)\n",
    "        else:\n",
    "            return print(False)\n",
    "\n",
    "    # MÉTODO PARA IMPRIMIR TODOS LOS NODOS DE LA LISTA\n",
    "    def stack_traverse(self):\n",
    "        node = self.head_node\n",
    "        while node:\n",
    "            print(node.val)\n",
    "            node = node.next_node\n",
    "\n",
    "    # MÉTODO PARA AÑADIR UN NODO AL INICIO\n",
    "    def push(self, new_head_node):\n",
    "        old_head_node = self.head_node\n",
    "        self.head_node = new_head_node\n",
    "        new_head_node.set_next_node(old_head_node)\n",
    "\n",
    "    def pop(self):\n",
    "        pop_node = self.head_node\n",
    "        self.head_node = self.head_node.next_node\n",
    "        pop_node.set_next_node(None)\n",
    "        return pop_node.val\n",
    "\n",
    "    def top(self):\n",
    "        return self.head_node.val\n",
    "\n",
    "    def size(self):\n",
    "        count = 0\n",
    "        node = self.head_node\n",
    "        while node:\n",
    "            node = node.next_node\n",
    "            count += 1\n",
    "        return print(count)"
   ]
  },
  {
   "cell_type": "code",
   "execution_count": 5,
   "id": "1edd3670",
   "metadata": {},
   "outputs": [
    {
     "name": "stdout",
     "output_type": "stream",
     "text": [
      "Prueba de push function\n",
      "\n",
      " \n",
      "\n",
      "Marzo\n",
      "Febrero\n",
      "Enero\n",
      "3\n",
      "\n",
      " Prueba de pop function\n",
      "Marzo\n",
      "Febrero\n",
      "Enero\n"
     ]
    }
   ],
   "source": [
    "print(\"Prueba de push function\")\n",
    "stack =  StackList()\n",
    "print(\"\\n \\n\")\n",
    "stack.push(Node(\"Enero\"))\n",
    "stack.push(Node(\"Febrero\"))\n",
    "stack.push(Node(\"Marzo\"))\n",
    "\n",
    "stack.stack_traverse()\n",
    "\n",
    "print(\"\\n Prueba de size function \\n\")\n",
    "stack.size()\n",
    "\n",
    "print(\"\\n Prueba de pop function\")\n",
    "print(stack.pop())\n",
    "print(stack.pop())\n",
    "print(stack.top())\n"
   ]
  }
 ],
 "metadata": {
  "kernelspec": {
   "display_name": "Python 3",
   "language": "python",
   "name": "python3"
  },
  "language_info": {
   "codemirror_mode": {
    "name": "ipython",
    "version": 3
   },
   "file_extension": ".py",
   "mimetype": "text/x-python",
   "name": "python",
   "nbconvert_exporter": "python",
   "pygments_lexer": "ipython3",
   "version": "3.8.8"
  }
 },
 "nbformat": 4,
 "nbformat_minor": 5
}
