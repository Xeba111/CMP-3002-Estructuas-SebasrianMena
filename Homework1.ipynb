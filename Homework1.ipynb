{
 "cells": [
  {
   "cell_type": "code",
   "execution_count": 4,
   "id": "29e8b486",
   "metadata": {},
   "outputs": [],
   "source": [
    "import time\n",
    "import pandas as pd\n",
    "import numpy as np\n",
    "import matplotlib.pyplot as plt\n",
    "%matplotlib inline "
   ]
  },
  {
   "cell_type": "markdown",
   "id": "8d0a8bef",
   "metadata": {},
   "source": [
    "# Homework 1\n",
    "## Sebastián Mena [212779]"
   ]
  },
  {
   "cell_type": "markdown",
   "id": "35509289",
   "metadata": {},
   "source": [
    "##  1. Sort the following functions in decreasing order of asymptotic complexity ($O(f(n))$):\n",
    "\n",
    "- $f_1(n) = n^\\sqrt{n}$\n",
    "- $f_2(n) = 2^n$\n",
    "- $f_3(n) = {n\\choose 2}$\n",
    "- $f_4(n) = \\sum_{i=2}^n (i-1)$"
   ]
  },
  {
   "cell_type": "markdown",
   "id": "353b3a3e",
   "metadata": {},
   "source": []
  },
  {
   "cell_type": "markdown",
   "id": "6079fb21",
   "metadata": {},
   "source": [
    "## 2. Implement in Python the insertion sort procedure to sort into non-increasing instead of non-decreasing order \n",
    "\n",
    "1. Use the `time` function to measure the execution time for the best and worst inputs of size between 10 and 1,000 (use steps of 10)\n",
    "2. Plot the best and worst execution times measured in (2.1) as a function of $n$\n",
    "3. Use the `random` function to generate randomly sorted inputs to calculate the execution time. For each $n$ run the program for 100 different inputs. Do for $n = 100,200, \\dots, 1000$.\n",
    "4. Plot the mean, median, and standard deviation as a function of $n$ for the values obtained in 2.3\n"
   ]
  },
  {
   "cell_type": "code",
   "execution_count": 8,
   "id": "4d58a086",
   "metadata": {},
   "outputs": [],
   "source": [
    "def InverseInsertionSort(array):\n",
    "    for i in range(1, len(array)):        \n",
    "        key = array[i]\n",
    "        j = i-1\n",
    "        while (j >= 0) and (key > array[j]):\n",
    "            array[j+1] = array[j]\n",
    "            j -= 1\n",
    "        array[j+1] = key"
   ]
  },
  {
   "cell_type": "code",
   "execution_count": null,
   "id": "fb863e32",
   "metadata": {},
   "outputs": [],
   "source": []
  },
  {
   "cell_type": "code",
   "execution_count": null,
   "id": "fb06e6a3",
   "metadata": {},
   "outputs": [],
   "source": []
  },
  {
   "cell_type": "markdown",
   "id": "a3746feb",
   "metadata": {},
   "source": [
    "## 3.  CLRS 2.1-4\n",
    "pg. 22"
   ]
  },
  {
   "cell_type": "markdown",
   "id": "33778ad0",
   "metadata": {},
   "source": [
    "El input de este programa son dos arreglos de tamaño n, es decir que tienen el mismo tamaño. En estos dos arreglos se encuentran escritos dos números enteros en binario. \n",
    "<br><br>\n",
    "El output del programa es un arreglo de tamaño n+1 que contiene el resultado de la suma de los dos números. Dicho resultado también se encuentra escrito en binario.\n"
   ]
  },
  {
   "cell_type": "markdown",
   "id": "3f54af03",
   "metadata": {},
   "source": [
    "Para realizar suma binaria es necesario tener en cuenta que:\n",
    "<br>0 + 0 = 0\n",
    "<br>1 + 0 = 1\n",
    "<br>1 + 1 = 0 con un exceso de 1 \n",
    "<br><br>\n",
    "El pseudocódigo puede ser el siguiente:\n",
    "\n",
    "exceso = 0 <br>\n",
    "tamaño n <br>\n",
    "for i=n to 1: <br>\n",
    "C[n+1] = A[n] + B[n] + exceso <br>\n",
    "if A[n]+B[n]+exceso >= 2: <br>\n",
    "exceso = 1 <br>\n",
    "else exceso = 0 <br>\n",
    "C[1] = exceso\n"
   ]
  },
  {
   "cell_type": "markdown",
   "id": "fd9ddcc1",
   "metadata": {},
   "source": [
    "## 4.  CLRS 3.1-1\n",
    "pg. 52"
   ]
  },
  {
   "cell_type": "markdown",
   "id": "661b49f1",
   "metadata": {},
   "source": [
    "Para hablar "
   ]
  },
  {
   "cell_type": "markdown",
   "id": "4a070079",
   "metadata": {},
   "source": [
    "## 5. CLRS 3.1-2\n",
    "pg. 52"
   ]
  },
  {
   "cell_type": "code",
   "execution_count": null,
   "id": "1d174f3e",
   "metadata": {},
   "outputs": [],
   "source": []
  },
  {
   "cell_type": "markdown",
   "id": "7fe796ed",
   "metadata": {},
   "source": [
    "## 6. CLRS 3.1-6\n",
    "pg. 53"
   ]
  },
  {
   "cell_type": "code",
   "execution_count": null,
   "id": "f6b43ca8",
   "metadata": {},
   "outputs": [],
   "source": []
  },
  {
   "cell_type": "markdown",
   "id": "2d3a36bc",
   "metadata": {},
   "source": [
    "## 7. CLRS 3-4 (a,b,e,g)\n",
    "pg. 62"
   ]
  },
  {
   "cell_type": "code",
   "execution_count": null,
   "id": "2dd13f65",
   "metadata": {},
   "outputs": [],
   "source": []
  }
 ],
 "metadata": {
  "kernelspec": {
   "display_name": "Python 3",
   "language": "python",
   "name": "python3"
  },
  "language_info": {
   "codemirror_mode": {
    "name": "ipython",
    "version": 3
   },
   "file_extension": ".py",
   "mimetype": "text/x-python",
   "name": "python",
   "nbconvert_exporter": "python",
   "pygments_lexer": "ipython3",
   "version": "3.8.8"
  }
 },
 "nbformat": 4,
 "nbformat_minor": 5
}
